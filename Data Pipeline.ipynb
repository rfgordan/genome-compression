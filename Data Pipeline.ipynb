{
 "cells": [
  {
   "cell_type": "code",
   "execution_count": 1,
   "metadata": {
    "collapsed": false
   },
   "outputs": [],
   "source": [
    "# imports\n",
    "\n",
    "import zlib\n",
    "import lzma\n",
    "import bz2\n",
    "import os\n",
    "import io\n",
    "import sys\n",
    "import time\n",
    "import csv\n",
    "import zstandard as zstd\n",
    "import blosc as bl\n",
    "import pickle\n",
    "import re\n",
    "from googleapiclient.discovery import build\n",
    "from googleapiclient.http import MediaIoBaseDownload\n",
    "from google_auth_oauthlib.flow import InstalledAppFlow\n",
    "from google.auth.transport.requests import Request"
   ]
  },
  {
   "cell_type": "code",
   "execution_count": 2,
   "metadata": {
    "collapsed": false
   },
   "outputs": [
    {
     "ename": "SyntaxError",
     "evalue": "invalid syntax (<ipython-input-2-38fb9df2b9d8>, line 2)",
     "output_type": "error",
     "traceback": [
      "\u001b[0;36m  File \u001b[0;32m\"<ipython-input-2-38fb9df2b9d8>\"\u001b[0;36m, line \u001b[0;32m2\u001b[0m\n\u001b[0;31m    def __init__()\u001b[0m\n\u001b[0m                  ^\u001b[0m\n\u001b[0;31mSyntaxError\u001b[0m\u001b[0;31m:\u001b[0m invalid syntax\n"
     ]
    }
   ],
   "source": [
    "class Genome:\n",
    "    def __init__()"
   ]
  },
  {
   "cell_type": "code",
   "execution_count": 3,
   "metadata": {
    "collapsed": false
   },
   "outputs": [],
   "source": [
    "# decorator to auth for google drive -- see: https://developers.google.com/drive/api/v3/quickstart/python\n",
    "def auth_drive(func):\n",
    "    def wrapper(*args, **kwargs):\n",
    "        creds = None\n",
    "        SCOPES = ['https://www.googleapis.com/auth/drive.readonly']\n",
    "        if os.path.exists('token.pickle'):\n",
    "            with open('token.pickle', 'rb') as token:\n",
    "                creds = pickle.load(token)\n",
    "        # If there are no (valid) credentials available, let the user log in\n",
    "        if not creds or not creds.valid:\n",
    "            if creds and creds.expired and creds.refresh_token:\n",
    "                creds.refresh(Request())\n",
    "            else:\n",
    "                flow = InstalledAppFlow.from_client_secrets_file(\n",
    "                    'credentials.json', SCOPES)\n",
    "                creds = flow.run_local_server()\n",
    "            # Save the credentials for the next run\n",
    "            with open('token.pickle', 'wb') as token:\n",
    "                pickle.dump(creds, token)\n",
    "\n",
    "        service =  build('drive', 'v2', credentials=creds)\n",
    "        kwargs['service'] = service\n",
    "        return func(*args, **kwargs)\n",
    "            \n",
    "    return wrapper\n",
    "\n",
    "# generator that obtains and collates files\n",
    "@auth_drive\n",
    "def gen_links(service):\n",
    "    results = service.children().list(folderId='1mHg9cmN6GrjEQCK02c_nd-FUHODbZ4Z5').execute()\n",
    "    items = results.get('items', [])\n",
    "    for item in items:\n",
    "        print('generating item link')\n",
    "        yield item['id']\n",
    "        \n",
    "@auth_drive\n",
    "def gen_files(file_ids, service):\n",
    "    for file_id in file_ids:\n",
    "        result = service.files().get(fileId=file_id).execute()\n",
    "        if re.search('genome\\.(gz)$', result['title']):\n",
    "            request = service.files().get_media(fileId=file_id)\n",
    "            fh = io.BytesIO()\n",
    "            downloader = MediaIoBaseDownload(fh, request)\n",
    "            done = False\n",
    "            while done is False:\n",
    "                status, done = downloader.next_chunk()\n",
    "                print(\"Download %d%%.\" % int(status.progress() * 100))\n",
    "                \n",
    "            # construct object with metadata?\n",
    "            yield {'id': file_id, 'file': fh}\n",
    "\n",
    "@auth_drive\n",
    "def test(service):\n",
    "    results = service.children().list(folderId='1mHg9cmN6GrjEQCK02c_nd-FUHODbZ4Z5', fields=\"nextPageToken, files(id, title)\").execute()\n",
    "    items = results.get('items', [])\n",
    "    for item in items:\n",
    "        print(item)\n",
    "        #print('File Id: %s, NameL %s' % (item['id'], item['title']))\n",
    "\n",
    "    \n",
    "        \n",
    "            "
   ]
  },
  {
   "cell_type": "code",
   "execution_count": null,
   "metadata": {
    "collapsed": false
   },
   "outputs": [
    {
     "name": "stdout",
     "output_type": "stream",
     "text": [
      "Please visit this URL to authorize this application: https://accounts.google.com/o/oauth2/auth?response_type=code&client_id=688169560602-hbljcplp74iclbus423nt38hm6e7ru5g.apps.googleusercontent.com&redirect_uri=http%3A%2F%2Flocalhost%3A8080%2F&scope=https%3A%2F%2Fwww.googleapis.com%2Fauth%2Fdrive.readonly&state=Kj21MwWH6LfTrcSKy9nKDqATz1XKBQ&access_type=offline\n",
      "generating item link\n",
      "generating item link\n",
      "Download 54%.\n",
      "Download 100%.\n",
      "generating item link\n",
      "Download 100%.\n",
      "generating item link\n",
      "Download 100%.\n",
      "generating item link\n",
      "Download 100%.\n",
      "generating item link\n",
      "Download 100%.\n",
      "generating item link\n",
      "Download 19%.\n",
      "Download 39%.\n",
      "Download 59%.\n",
      "Download 79%.\n"
     ]
    }
   ],
   "source": [
    "list(gen_files(gen_links()))"
   ]
  },
  {
   "cell_type": "code",
   "execution_count": 65,
   "metadata": {
    "collapsed": false
   },
   "outputs": [
    {
     "data": {
      "text/plain": [
       "'{\"uri\": \"https://www.googleapis.com/drive/v2/files/1IxTEzuRJ--6r10kudtSo3VweJ7PrhyLHzY1T1FwbChs?alt=media\", \"method\": \"GET\", \"body\": null, \"headers\": {\"accept\": \"*/*\", \"accept-encoding\": \"gzip, deflate\", \"user-agent\": \"google-api-python-client/1.7.8 (gzip)\"}, \"methodId\": \"drive.files.get\", \"resumable\": null, \"response_callbacks\": [], \"_in_error_state\": false, \"body_size\": 0, \"resumable_uri\": null, \"resumable_progress\": 0}'"
      ]
     },
     "execution_count": 65,
     "metadata": {},
     "output_type": "execute_result"
    }
   ],
   "source": [
    "a.to_json()"
   ]
  },
  {
   "cell_type": "code",
   "execution_count": 7,
   "metadata": {
    "collapsed": true
   },
   "outputs": [],
   "source": [
    "# compression transforms\n",
    "# binary file --> binary compressed file\n",
    "\n",
    "def comp_ratio(compressor):\n",
    "    def wrapper(*args, **kwargs):\n",
    "        uncompressed_size = sys.getsizeof(args[0])\n",
    "        compressed = compressor(*args, **kwargs)\n",
    "        compressed_size = sys.getsizeof(compressed)\n",
    "        return uncompressed_size / compressed_size\n",
    "    return wrapper\n",
    "\n",
    "@comp_ratio\n",
    "def zlib_compress(f):\n",
    "    c_z = zlib.compress(f,9)\n",
    "    return c_z\n",
    "\n",
    "@comp_ratio\n",
    "def lzma_compress(f):\n",
    "    c = lzma.LZMACompressor()\n",
    "    c_l = c.compress(f)\n",
    "    c_l += c.flush()\n",
    "    return c_l\n",
    "\n",
    "@comp_ratio\n",
    "def bz2_compress(f):\n",
    "    c = bz2.BZ2Compressor()\n",
    "    c_b = c.compress(f)\n",
    "    c_b += c.flush()\n",
    "    return c_b\n",
    "\n",
    "@comp_ratio\n",
    "def zstd_compress(f):\n",
    "    c = zstd.ZstdCompressor()\n",
    "    c_zs = c.compress(f)\n",
    "    return c_zs\n",
    "\n",
    "@comp_ratio\n",
    "def bl_compress(f):\n",
    "    return bl.compress(f)\n",
    "\n",
    "compress_transforms = [zlib_compress, lzma_compress, bz2_compress, zstd_compress, bl_compress]"
   ]
  },
  {
   "cell_type": "code",
   "execution_count": 48,
   "metadata": {
    "collapsed": true
   },
   "outputs": [],
   "source": [
    "#generator that applies list of transforms to list of files\n",
    "def apply(genomes, transforms, log='results.csv'):\n",
    "    with open(log, 'a', newline='') as outfile:\n",
    "        writer = csv.writer(outfile)\n",
    "        cols = ['genome'] + [t.__name__ for t in transforms]\n",
    "        writer.writerow(cols)\n",
    "        for genome in genomes:\n",
    "            stats = []\n",
    "            for transform in transforms:\n",
    "                print('Applying {0} to {1}',transform.__name__, str(genome))\n",
    "                stats.append(transform(genome)) # should output some stat for us to log\n",
    "            writer.writerow([str(genome)] + stats)"
   ]
  },
  {
   "cell_type": "code",
   "execution_count": 49,
   "metadata": {
    "collapsed": true
   },
   "outputs": [],
   "source": [
    "g_a = {'name': 2, 2: 3}"
   ]
  },
  {
   "cell_type": "code",
   "execution_count": 50,
   "metadata": {
    "collapsed": false
   },
   "outputs": [
    {
     "name": "stdout",
     "output_type": "stream",
     "text": [
      "Applying {0} to {1} <lambda> sadsdfdf\n",
      "Applying {0} to {1} <lambda> sadsdfdf\n",
      "Applying {0} to {1} <lambda> adsfdf\n",
      "Applying {0} to {1} <lambda> adsfdf\n"
     ]
    }
   ],
   "source": [
    "apply(['sadsdfdf', 'adsfdf'], [lambda x: len(x), lambda y: len(y)**2 ])"
   ]
  },
  {
   "cell_type": "code",
   "execution_count": 25,
   "metadata": {
    "collapsed": false
   },
   "outputs": [
    {
     "data": {
      "text/plain": [
       "6"
      ]
     },
     "execution_count": 25,
     "metadata": {},
     "output_type": "execute_result"
    }
   ],
   "source": [
    "len('sdfadf')"
   ]
  },
  {
   "cell_type": "code",
   "execution_count": 26,
   "metadata": {
    "collapsed": false
   },
   "outputs": [
    {
     "data": {
      "text/plain": [
       "\"{'dsf': 4}\""
      ]
     },
     "execution_count": 26,
     "metadata": {},
     "output_type": "execute_result"
    }
   ],
   "source": [
    "str({'dsf':4})"
   ]
  },
  {
   "cell_type": "code",
   "execution_count": 41,
   "metadata": {
    "collapsed": false
   },
   "outputs": [
    {
     "name": "stdout",
     "output_type": "stream",
     "text": [
      "2\n"
     ]
    }
   ],
   "source": [
    "for i in [0,1]:\n",
    "    k=2\n",
    "print(k)"
   ]
  },
  {
   "cell_type": "code",
   "execution_count": 2,
   "metadata": {
    "collapsed": true
   },
   "outputs": [],
   "source": [
    "b = b'sdadg'"
   ]
  },
  {
   "cell_type": "code",
   "execution_count": 3,
   "metadata": {
    "collapsed": true
   },
   "outputs": [],
   "source": [
    "b += b'rewionf kfds'"
   ]
  },
  {
   "cell_type": "code",
   "execution_count": 10,
   "metadata": {
    "collapsed": false
   },
   "outputs": [
    {
     "ename": "SyntaxError",
     "evalue": "invalid syntax (<ipython-input-10-9cc78994e88a>, line 1)",
     "output_type": "error",
     "traceback": [
      "\u001b[0;36m  File \u001b[0;32m\"<ipython-input-10-9cc78994e88a>\"\u001b[0;36m, line \u001b[0;32m1\u001b[0m\n\u001b[0;31m    with x = 4*12:\u001b[0m\n\u001b[0m           ^\u001b[0m\n\u001b[0;31mSyntaxError\u001b[0m\u001b[0;31m:\u001b[0m invalid syntax\n"
     ]
    }
   ],
   "source": [
    "with x = 4*12:\n",
    "    print(x)"
   ]
  },
  {
   "cell_type": "code",
   "execution_count": 13,
   "metadata": {
    "collapsed": false
   },
   "outputs": [
    {
     "ename": "SyntaxError",
     "evalue": "invalid syntax (<ipython-input-13-5a004697d880>, line 1)",
     "output_type": "error",
     "traceback": [
      "\u001b[0;36m  File \u001b[0;32m\"<ipython-input-13-5a004697d880>\"\u001b[0;36m, line \u001b[0;32m1\u001b[0m\n\u001b[0;31m    with (return 4*12) as x:\u001b[0m\n\u001b[0m               ^\u001b[0m\n\u001b[0;31mSyntaxError\u001b[0m\u001b[0;31m:\u001b[0m invalid syntax\n"
     ]
    }
   ],
   "source": [
    "with (return 4*12) as x:\n",
    "    print(x)"
   ]
  },
  {
   "cell_type": "code",
   "execution_count": null,
   "metadata": {
    "collapsed": true
   },
   "outputs": [],
   "source": []
  }
 ],
 "metadata": {
  "kernelspec": {
   "display_name": "genomecompression",
   "language": "python",
   "name": "genomecompression"
  },
  "language_info": {
   "codemirror_mode": {
    "name": "ipython",
    "version": 3
   },
   "file_extension": ".py",
   "mimetype": "text/x-python",
   "name": "python",
   "nbconvert_exporter": "python",
   "pygments_lexer": "ipython3",
   "version": "3.7.1"
  }
 },
 "nbformat": 4,
 "nbformat_minor": 1
}
