{
 "cells": [
  {
   "cell_type": "code",
   "execution_count": 150,
   "metadata": {
    "collapsed": false
   },
   "outputs": [],
   "source": [
    "import matplotlib as mplt\n",
    "from matplotlib import pyplot as plt\n",
    "import pandas as pd\n",
    "import numpy as np"
   ]
  },
  {
   "cell_type": "code",
   "execution_count": 93,
   "metadata": {
    "collapsed": true
   },
   "outputs": [],
   "source": [
    "df1 = pd.read_csv('results2.csv')"
   ]
  },
  {
   "cell_type": "code",
   "execution_count": 117,
   "metadata": {
    "collapsed": false
   },
   "outputs": [
    {
     "name": "stderr",
     "output_type": "stream",
     "text": [
      "/Users/boreas/programming/genomecompression/lib/python3.7/site-packages/ipykernel_launcher.py:1: FutureWarning: Series.nonzero() is deprecated and will be removed in a future version.Use Series.to_numpy().nonzero() instead\n",
      "  \"\"\"Entry point for launching an IPython kernel.\n"
     ]
    }
   ],
   "source": [
    "df_size = df1.loc[(df1.wrapper == \"get_file_size\").nonzero()[0][0]:df1.size,['genome','wrapper']]\n",
    "df_compression = df1.loc[6:19,:]\n",
    "df_info = pd.read_csv('Genomes_Info.csv').loc[:,['ID','Kingdom']]"
   ]
  },
  {
   "cell_type": "code",
   "execution_count": 133,
   "metadata": {
    "collapsed": false
   },
   "outputs": [
    {
     "name": "stderr",
     "output_type": "stream",
     "text": [
      "/Users/boreas/programming/genomecompression/lib/python3.7/site-packages/ipykernel_launcher.py:2: SettingWithCopyWarning: \n",
      "A value is trying to be set on a copy of a slice from a DataFrame.\n",
      "Try using .loc[row_indexer,col_indexer] = value instead\n",
      "\n",
      "See the caveats in the documentation: http://pandas.pydata.org/pandas-docs/stable/indexing.html#indexing-view-versus-copy\n",
      "  \n"
     ]
    }
   ],
   "source": [
    "df_size.rename(index=str, columns={'wrapper':'size'},inplace=True)\n",
    "df_compression['max'] = df_compression.loc[:,df_compression.columns[1:]].max(axis=1)"
   ]
  },
  {
   "cell_type": "code",
   "execution_count": 135,
   "metadata": {
    "collapsed": false
   },
   "outputs": [],
   "source": [
    "df_compression = df_compression.loc[:,['genome', 'max']]"
   ]
  },
  {
   "cell_type": "code",
   "execution_count": 136,
   "metadata": {
    "collapsed": true
   },
   "outputs": [],
   "source": [
    "df_merged = df_compression.merge(df_info, left_on='genome', right_on='ID')"
   ]
  },
  {
   "cell_type": "code",
   "execution_count": 138,
   "metadata": {
    "collapsed": false
   },
   "outputs": [
    {
     "data": {
      "text/html": [
       "<div>\n",
       "<style scoped>\n",
       "    .dataframe tbody tr th:only-of-type {\n",
       "        vertical-align: middle;\n",
       "    }\n",
       "\n",
       "    .dataframe tbody tr th {\n",
       "        vertical-align: top;\n",
       "    }\n",
       "\n",
       "    .dataframe thead th {\n",
       "        text-align: right;\n",
       "    }\n",
       "</style>\n",
       "<table border=\"1\" class=\"dataframe\">\n",
       "  <thead>\n",
       "    <tr style=\"text-align: right;\">\n",
       "      <th></th>\n",
       "      <th>genome</th>\n",
       "      <th>max</th>\n",
       "      <th>ID</th>\n",
       "      <th>Kingdom</th>\n",
       "      <th>size</th>\n",
       "    </tr>\n",
       "  </thead>\n",
       "  <tbody>\n",
       "    <tr>\n",
       "      <th>0</th>\n",
       "      <td>1OsHimlxsGE1D3M5tNXTAbnOuq9UAmN2k</td>\n",
       "      <td>5.487046</td>\n",
       "      <td>1OsHimlxsGE1D3M5tNXTAbnOuq9UAmN2k</td>\n",
       "      <td>Animal</td>\n",
       "      <td>773947682</td>\n",
       "    </tr>\n",
       "    <tr>\n",
       "      <th>1</th>\n",
       "      <td>1s9dNf0i3kbW88HIVaeDppT7JILDgL2wo</td>\n",
       "      <td>3.841810</td>\n",
       "      <td>1s9dNf0i3kbW88HIVaeDppT7JILDgL2wo</td>\n",
       "      <td>Bacteria</td>\n",
       "      <td>587405</td>\n",
       "    </tr>\n",
       "    <tr>\n",
       "      <th>2</th>\n",
       "      <td>1bj4eybCY3XwujjYIKilegdtbj1q2pJ_C</td>\n",
       "      <td>4.216932</td>\n",
       "      <td>1bj4eybCY3XwujjYIKilegdtbj1q2pJ_C</td>\n",
       "      <td>Bacteria</td>\n",
       "      <td>176175</td>\n",
       "    </tr>\n",
       "    <tr>\n",
       "      <th>3</th>\n",
       "      <td>1YKRVGYUeRgxUd-F7B60Vz_dk7s57ZEhu</td>\n",
       "      <td>2.531375</td>\n",
       "      <td>1YKRVGYUeRgxUd-F7B60Vz_dk7s57ZEhu</td>\n",
       "      <td>Virus</td>\n",
       "      <td>1896</td>\n",
       "    </tr>\n",
       "    <tr>\n",
       "      <th>4</th>\n",
       "      <td>1uGIi-4pfOoiZlIsTexPhuRrK81QW69_t</td>\n",
       "      <td>4.163944</td>\n",
       "      <td>1uGIi-4pfOoiZlIsTexPhuRrK81QW69_t</td>\n",
       "      <td>Protist</td>\n",
       "      <td>34565107</td>\n",
       "    </tr>\n",
       "    <tr>\n",
       "      <th>5</th>\n",
       "      <td>14YFBUNfKdmrlHVz09x1vSTBFhP36BU0N</td>\n",
       "      <td>4.059901</td>\n",
       "      <td>14YFBUNfKdmrlHVz09x1vSTBFhP36BU0N</td>\n",
       "      <td>Animal</td>\n",
       "      <td>1700386327</td>\n",
       "    </tr>\n",
       "    <tr>\n",
       "      <th>6</th>\n",
       "      <td>1f5rSSt1DS0_mm6XrH-KiCUKbi1koUdy6</td>\n",
       "      <td>3.699358</td>\n",
       "      <td>1f5rSSt1DS0_mm6XrH-KiCUKbi1koUdy6</td>\n",
       "      <td>Fungi</td>\n",
       "      <td>12319017</td>\n",
       "    </tr>\n",
       "    <tr>\n",
       "      <th>7</th>\n",
       "      <td>1nfmlUw8nIaH4VcltO7onFsouI9K-WzdY</td>\n",
       "      <td>4.068359</td>\n",
       "      <td>1nfmlUw8nIaH4VcltO7onFsouI9K-WzdY</td>\n",
       "      <td>Animal</td>\n",
       "      <td>369205819</td>\n",
       "    </tr>\n",
       "    <tr>\n",
       "      <th>8</th>\n",
       "      <td>1A_SQ89QyeiR_uhFSIvMQWReYv3jt6MAP</td>\n",
       "      <td>4.208002</td>\n",
       "      <td>1A_SQ89QyeiR_uhFSIvMQWReYv3jt6MAP</td>\n",
       "      <td>Animal</td>\n",
       "      <td>2854236832</td>\n",
       "    </tr>\n",
       "    <tr>\n",
       "      <th>9</th>\n",
       "      <td>1xqUdvYJ8_2qRZZ8VhkSI2aDeRTNmcvQt</td>\n",
       "      <td>4.174073</td>\n",
       "      <td>1xqUdvYJ8_2qRZZ8VhkSI2aDeRTNmcvQt</td>\n",
       "      <td>Animal</td>\n",
       "      <td>3298128101</td>\n",
       "    </tr>\n",
       "    <tr>\n",
       "      <th>10</th>\n",
       "      <td>1LIjUVK0GTGDlR9Qa6-VAh4iPRh33w4WR</td>\n",
       "      <td>3.867147</td>\n",
       "      <td>1LIjUVK0GTGDlR9Qa6-VAh4iPRh33w4WR</td>\n",
       "      <td>Animal</td>\n",
       "      <td>139183506</td>\n",
       "    </tr>\n",
       "    <tr>\n",
       "      <th>11</th>\n",
       "      <td>17C-2n60XJA7vakx9MZv34pBpccSOLcw3</td>\n",
       "      <td>3.722887</td>\n",
       "      <td>17C-2n60XJA7vakx9MZv34pBpccSOLcw3</td>\n",
       "      <td>Bacteria</td>\n",
       "      <td>5192765</td>\n",
       "    </tr>\n",
       "    <tr>\n",
       "      <th>12</th>\n",
       "      <td>1fu7llq5IkhalhsmVsUMvCLA8xcZbN6aq</td>\n",
       "      <td>3.706215</td>\n",
       "      <td>1fu7llq5IkhalhsmVsUMvCLA8xcZbN6aq</td>\n",
       "      <td>Animal</td>\n",
       "      <td>101526430</td>\n",
       "    </tr>\n",
       "    <tr>\n",
       "      <th>13</th>\n",
       "      <td>14kB6BW0kiTiFa4RKaNb81mvqscBz1Gjf</td>\n",
       "      <td>3.740938</td>\n",
       "      <td>14kB6BW0kiTiFa4RKaNb81mvqscBz1Gjf</td>\n",
       "      <td>Plant</td>\n",
       "      <td>121165062</td>\n",
       "    </tr>\n",
       "  </tbody>\n",
       "</table>\n",
       "</div>"
      ],
      "text/plain": [
       "                               genome       max  \\\n",
       "0   1OsHimlxsGE1D3M5tNXTAbnOuq9UAmN2k  5.487046   \n",
       "1   1s9dNf0i3kbW88HIVaeDppT7JILDgL2wo  3.841810   \n",
       "2   1bj4eybCY3XwujjYIKilegdtbj1q2pJ_C  4.216932   \n",
       "3   1YKRVGYUeRgxUd-F7B60Vz_dk7s57ZEhu  2.531375   \n",
       "4   1uGIi-4pfOoiZlIsTexPhuRrK81QW69_t  4.163944   \n",
       "5   14YFBUNfKdmrlHVz09x1vSTBFhP36BU0N  4.059901   \n",
       "6   1f5rSSt1DS0_mm6XrH-KiCUKbi1koUdy6  3.699358   \n",
       "7   1nfmlUw8nIaH4VcltO7onFsouI9K-WzdY  4.068359   \n",
       "8   1A_SQ89QyeiR_uhFSIvMQWReYv3jt6MAP  4.208002   \n",
       "9   1xqUdvYJ8_2qRZZ8VhkSI2aDeRTNmcvQt  4.174073   \n",
       "10  1LIjUVK0GTGDlR9Qa6-VAh4iPRh33w4WR  3.867147   \n",
       "11  17C-2n60XJA7vakx9MZv34pBpccSOLcw3  3.722887   \n",
       "12  1fu7llq5IkhalhsmVsUMvCLA8xcZbN6aq  3.706215   \n",
       "13  14kB6BW0kiTiFa4RKaNb81mvqscBz1Gjf  3.740938   \n",
       "\n",
       "                                   ID   Kingdom        size  \n",
       "0   1OsHimlxsGE1D3M5tNXTAbnOuq9UAmN2k    Animal   773947682  \n",
       "1   1s9dNf0i3kbW88HIVaeDppT7JILDgL2wo  Bacteria      587405  \n",
       "2   1bj4eybCY3XwujjYIKilegdtbj1q2pJ_C  Bacteria      176175  \n",
       "3   1YKRVGYUeRgxUd-F7B60Vz_dk7s57ZEhu     Virus        1896  \n",
       "4   1uGIi-4pfOoiZlIsTexPhuRrK81QW69_t   Protist    34565107  \n",
       "5   14YFBUNfKdmrlHVz09x1vSTBFhP36BU0N    Animal  1700386327  \n",
       "6   1f5rSSt1DS0_mm6XrH-KiCUKbi1koUdy6     Fungi    12319017  \n",
       "7   1nfmlUw8nIaH4VcltO7onFsouI9K-WzdY    Animal   369205819  \n",
       "8   1A_SQ89QyeiR_uhFSIvMQWReYv3jt6MAP    Animal  2854236832  \n",
       "9   1xqUdvYJ8_2qRZZ8VhkSI2aDeRTNmcvQt    Animal  3298128101  \n",
       "10  1LIjUVK0GTGDlR9Qa6-VAh4iPRh33w4WR    Animal   139183506  \n",
       "11  17C-2n60XJA7vakx9MZv34pBpccSOLcw3  Bacteria     5192765  \n",
       "12  1fu7llq5IkhalhsmVsUMvCLA8xcZbN6aq    Animal   101526430  \n",
       "13  14kB6BW0kiTiFa4RKaNb81mvqscBz1Gjf     Plant   121165062  "
      ]
     },
     "execution_count": 138,
     "metadata": {},
     "output_type": "execute_result"
    }
   ],
   "source": [
    "df_merged = df_merged.merge(df_size, left_on='genome', right_on='genome')\n",
    "df_merged"
   ]
  },
  {
   "cell_type": "code",
   "execution_count": 145,
   "metadata": {
    "collapsed": false
   },
   "outputs": [],
   "source": [
    "color_map = {'Animal':'Blue', 'Plant': 'Green', 'Bacteria': 'Yellow', 'Virus': 'Purple', 'Protist': 'Orange', 'Fungi': 'Brown'}\n",
    "colors = df_merged.Kingdom.map(lambda x: color_map[x])"
   ]
  },
  {
   "cell_type": "code",
   "execution_count": 171,
   "metadata": {
    "collapsed": false
   },
   "outputs": [
    {
     "data": {
      "text/plain": [
       "<matplotlib.legend.Legend at 0x121a45a90>"
      ]
     },
     "execution_count": 171,
     "metadata": {},
     "output_type": "execute_result"
    },
    {
     "data": {
      "image/png": "[encoded data removed]",
      "text/plain": [
       "<Figure size 432x288 with 1 Axes>"
      ]
     },
     "metadata": {
      "needs_background": "light"
     },
     "output_type": "display_data"
    }
   ],
   "source": [
    "plt.scatter(df_merged['size'].astype(int).values, df_merged['max'].values, c=colors  )\n",
    "plt.xlabel('Size (Bytes)')\n",
    "plt.ylabel('Compression Ratio')\n",
    "plt.legend(handles=[mplt.patches.Patch(color=color_map[c], label=c) for c in color_map.keys()])"
   ]
  },
  {
   "cell_type": "code",
   "execution_count": 170,
   "metadata": {
    "collapsed": false
   },
   "outputs": [
    {
     "data": {
      "text/plain": [
       "[<matplotlib.patches.Patch at 0x121980f28>,\n",
       " <matplotlib.patches.Patch at 0x121925d30>,\n",
       " <matplotlib.patches.Patch at 0x11f46c8d0>,\n",
       " <matplotlib.patches.Patch at 0x12199ba58>,\n",
       " <matplotlib.patches.Patch at 0x12199be10>,\n",
       " <matplotlib.patches.Patch at 0x12199b748>]"
      ]
     },
     "execution_count": 170,
     "metadata": {},
     "output_type": "execute_result"
    }
   ],
   "source": [
    "[mplt.patches.Patch(color=color_map[c], label=c) for c in color_map.keys()]"
   ]
  },
  {
   "cell_type": "code",
   "execution_count": null,
   "metadata": {
    "collapsed": true
   },
   "outputs": [],
   "source": []
  }
 ],
 "metadata": {
  "kernelspec": {
   "display_name": "genomecompression",
   "language": "python",
   "name": "genomecompression"
  },
  "language_info": {
   "codemirror_mode": {
    "name": "ipython",
    "version": 3
   },
   "file_extension": ".py",
   "mimetype": "text/x-python",
   "name": "python",
   "nbconvert_exporter": "python",
   "pygments_lexer": "ipython3",
   "version": "3.7.1"
  }
 },
 "nbformat": 4,
 "nbformat_minor": 0
}
